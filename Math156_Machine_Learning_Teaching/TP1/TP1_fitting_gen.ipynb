{
 "cells": [
  {
   "cell_type": "code",
   "execution_count": 1,
   "metadata": {},
   "outputs": [],
   "source": [
    "import numpy as np\n",
    "import math\n",
    "import matplotlib.pyplot as plt"
   ]
  },
  {
   "cell_type": "code",
   "execution_count": 66,
   "metadata": {},
   "outputs": [],
   "source": [
    "xs = np.linspace(0.0, 2.0, num=20)"
   ]
  },
  {
   "cell_type": "code",
   "execution_count": 67,
   "metadata": {},
   "outputs": [],
   "source": [
    "beta_inv = 0.4"
   ]
  },
  {
   "cell_type": "code",
   "execution_count": 68,
   "metadata": {},
   "outputs": [],
   "source": [
    "f = lambda x: math.cos(2*math.pi*x) + 1.2 * x * (x-1) + np.random.normal(0.0, beta_inv)"
   ]
  },
  {
   "cell_type": "code",
   "execution_count": 69,
   "metadata": {},
   "outputs": [],
   "source": [
    "ys = [f(x) for x in xs]"
   ]
  },
  {
   "cell_type": "code",
   "execution_count": 70,
   "metadata": {},
   "outputs": [
    {
     "data": {
      "text/plain": [
       "[<matplotlib.lines.Line2D at 0x113bc4f10>]"
      ]
     },
     "execution_count": 70,
     "metadata": {},
     "output_type": "execute_result"
    },
    {
     "data": {
      "image/png": "[encoded data removed]",
      "text/plain": [
       "<Figure size 432x288 with 1 Axes>"
      ]
     },
     "metadata": {
      "needs_background": "light"
     },
     "output_type": "display_data"
    }
   ],
   "source": [
    "plt.plot(xs, ys, 'o')"
   ]
  },
  {
   "cell_type": "code",
   "execution_count": 73,
   "metadata": {},
   "outputs": [
    {
     "name": "stdout",
     "output_type": "stream",
     "text": [
      "1 &   0.000000 &   0.991459 \\\\\n",
      "2 &   0.105263 &   0.360328 \\\\\n",
      "3 &   0.210526 &   0.558448 \\\\\n",
      "4 &   0.315789 &   0.265560 \\\\\n",
      "5 &   0.421053 &  -1.364200 \\\\\n",
      "6 &   0.526316 &  -1.983883 \\\\\n",
      "7 &   0.631579 &  -1.551820 \\\\\n",
      "8 &   0.736842 &  -0.020161 \\\\\n",
      "9 &   0.842105 &   1.164831 \\\\\n",
      "10 &   0.947368 &   1.090539 \\\\\n",
      "11 &   1.052632 &   1.925967 \\\\\n",
      "12 &   1.157895 &   1.031809 \\\\\n",
      "13 &   1.263158 &   0.099923 \\\\\n",
      "14 &   1.368421 &   0.608555 \\\\\n",
      "15 &   1.473684 &  -0.701440 \\\\\n",
      "16 &   1.578947 &   0.566558 \\\\\n",
      "17 &   1.684211 &   1.998774 \\\\\n",
      "18 &   1.789474 &   1.423031 \\\\\n",
      "19 &   1.894737 &   2.386509 \\\\\n",
      "20 &   2.000000 &   3.199598 \\\\\n"
     ]
    }
   ],
   "source": [
    "for i in range(len(xs)):\n",
    "    print(f'{i+1:d} & {xs[i]:10.6f} & {ys[i]:10.6f} \\\\\\\\')"
   ]
  },
  {
   "cell_type": "code",
   "execution_count": 74,
   "metadata": {},
   "outputs": [
    {
     "name": "stdout",
     "output_type": "stream",
     "text": [
      "1   0.000000   0.991459\n",
      "2   0.105263   0.360328\n",
      "3   0.210526   0.558448\n",
      "4   0.315789   0.265560\n",
      "5   0.421053  -1.364200\n",
      "6   0.526316  -1.983883\n",
      "7   0.631579  -1.551820\n",
      "8   0.736842  -0.020161\n",
      "9   0.842105   1.164831\n",
      "10   0.947368   1.090539\n",
      "11   1.052632   1.925967\n",
      "12   1.157895   1.031809\n",
      "13   1.263158   0.099923\n",
      "14   1.368421   0.608555\n",
      "15   1.473684  -0.701440\n",
      "16   1.578947   0.566558\n",
      "17   1.684211   1.998774\n",
      "18   1.789474   1.423031\n",
      "19   1.894737   2.386509\n",
      "20   2.000000   3.199598\n"
     ]
    }
   ],
   "source": [
    "for i in range(len(xs)):\n",
    "    print(f'{i+1:d} {xs[i]:10.6f} {ys[i]:10.6f}')"
   ]
  },
  {
   "cell_type": "code",
   "execution_count": 75,
   "metadata": {},
   "outputs": [],
   "source": [
    "import csv\n",
    "\n",
    "with open('fitting_N20.csv', mode='w') as file:\n",
    "    writer = csv.writer(file, delimiter=',')\n",
    "    for i in range(len(xs)):\n",
    "        writer.writerow([i+1, xs[i], ys[i]])"
   ]
  },
  {
   "cell_type": "code",
   "execution_count": 76,
   "metadata": {},
   "outputs": [],
   "source": [
    "xss = np.linspace(0.0, 2.0, num=50)\n",
    "yss = [f(x) for x in xss]"
   ]
  },
  {
   "cell_type": "code",
   "execution_count": 77,
   "metadata": {},
   "outputs": [
    {
     "data": {
      "text/plain": [
       "[<matplotlib.lines.Line2D at 0x113c38810>]"
      ]
     },
     "execution_count": 77,
     "metadata": {},
     "output_type": "execute_result"
    },
    {
     "data": {
      "image/png": "[encoded data removed]",
      "text/plain": [
       "<Figure size 432x288 with 1 Axes>"
      ]
     },
     "metadata": {
      "needs_background": "light"
     },
     "output_type": "display_data"
    }
   ],
   "source": [
    "plt.plot(xss, yss, 'o')"
   ]
  },
  {
   "cell_type": "code",
   "execution_count": 78,
   "metadata": {},
   "outputs": [],
   "source": [
    "import csv\n",
    "\n",
    "with open('fitting_N50.csv', mode='w') as file:\n",
    "    writer = csv.writer(file, delimiter=',')\n",
    "    for i in range(len(xss)):\n",
    "        writer.writerow([i+1, xss[i], yss[i]])"
   ]
  },
  {
   "cell_type": "code",
   "execution_count": 79,
   "metadata": {},
   "outputs": [],
   "source": [
    "realf = lambda x: math.cos(2*math.pi*x) + 1.2 * x * (x-1)"
   ]
  },
  {
   "cell_type": "code",
   "execution_count": 80,
   "metadata": {},
   "outputs": [],
   "source": [
    "realxs = np.linspace(0.0, 2.0, num=100)"
   ]
  },
  {
   "cell_type": "code",
   "execution_count": 81,
   "metadata": {},
   "outputs": [],
   "source": [
    "realys = [realf(x) for x in realxs]"
   ]
  },
  {
   "cell_type": "code",
   "execution_count": 82,
   "metadata": {},
   "outputs": [
    {
     "data": {
      "text/plain": [
       "[<matplotlib.lines.Line2D at 0x113cd8bd0>]"
      ]
     },
     "execution_count": 82,
     "metadata": {},
     "output_type": "execute_result"
    },
    {
     "data": {
      "image/png": "[encoded data removed]",
      "text/plain": [
       "<Figure size 432x288 with 1 Axes>"
      ]
     },
     "metadata": {
      "needs_background": "light"
     },
     "output_type": "display_data"
    }
   ],
   "source": [
    "plt.plot(xs, ys, 'o')\n",
    "plt.plot(realxs, realys)"
   ]
  },
  {
   "cell_type": "code",
   "execution_count": null,
   "metadata": {},
   "outputs": [],
   "source": []
  }
 ],
 "metadata": {
  "kernelspec": {
   "display_name": "Python 3",
   "language": "python",
   "name": "python3"
  },
  "language_info": {
   "codemirror_mode": {
    "name": "ipython",
    "version": 3
   },
   "file_extension": ".py",
   "mimetype": "text/x-python",
   "name": "python",
   "nbconvert_exporter": "python",
   "pygments_lexer": "ipython3",
   "version": "3.7.6"
  }
 },
 "nbformat": 4,
 "nbformat_minor": 4
}
