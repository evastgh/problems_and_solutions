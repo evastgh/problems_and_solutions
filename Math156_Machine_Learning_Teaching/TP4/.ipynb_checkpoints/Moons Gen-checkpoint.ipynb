{
 "cells": [
  {
   "cell_type": "code",
   "execution_count": 1,
   "metadata": {},
   "outputs": [],
   "source": [
    "import scipy.io\n",
    "mat = scipy.io.loadmat('three_moons.mat')"
   ]
  },
  {
   "cell_type": "code",
   "execution_count": 2,
   "metadata": {},
   "outputs": [
    {
     "name": "stdout",
     "output_type": "stream",
     "text": [
      "{'__header__': b'MATLAB 5.0 MAT-file, Platform: MACI64, Created on: Thu Jan 18 20:12:12 2018', '__version__': '1.0', '__globals__': [], 'three_moons': array([[ 0.09880902,  0.13977881,  0.13216384, ...,  0.0950425 ,\n",
      "        -0.04443897,  0.32375497],\n",
      "       [ 0.04396572, -0.24913006,  0.15986003, ..., -0.05956812,\n",
      "        -0.10730203,  0.04976624],\n",
      "       [ 0.0516409 ,  0.12995598, -0.10731171, ...,  0.0548443 ,\n",
      "        -0.10986639, -0.15847176],\n",
      "       ...,\n",
      "       [-0.0202742 ,  0.22828537, -0.00511226, ..., -0.21480249,\n",
      "         0.09046327,  0.10209265],\n",
      "       [ 0.12868953, -0.07263658, -0.09444042, ..., -0.29952317,\n",
      "         0.04003824, -0.02674977],\n",
      "       [-0.06451067, -0.04424537,  0.00483208, ...,  0.0851958 ,\n",
      "        -0.26580593,  0.0305402 ]])}\n"
     ]
    }
   ],
   "source": [
    "print(mat)"
   ]
  },
  {
   "cell_type": "code",
   "execution_count": 15,
   "metadata": {},
   "outputs": [],
   "source": [
    "import numpy as np\n",
    "arr = mat['three_moons']"
   ]
  },
  {
   "cell_type": "code",
   "execution_count": 20,
   "metadata": {},
   "outputs": [
    {
     "data": {
      "text/plain": [
       "150000"
      ]
     },
     "execution_count": 20,
     "metadata": {},
     "output_type": "execute_result"
    }
   ],
   "source": [
    "arr.size"
   ]
  },
  {
   "cell_type": "code",
   "execution_count": 21,
   "metadata": {},
   "outputs": [
    {
     "data": {
      "text/plain": [
       "array([[ 0.09880902,  0.04396572,  0.0516409 , ..., -0.0202742 ,\n",
       "         0.12868953, -0.06451067],\n",
       "       [ 0.13977881, -0.24913006,  0.12995598, ...,  0.22828537,\n",
       "        -0.07263658, -0.04424537],\n",
       "       [ 0.13216384,  0.15986003, -0.10731171, ..., -0.00511226,\n",
       "        -0.09444042,  0.00483208],\n",
       "       ...,\n",
       "       [ 0.0950425 , -0.05956812,  0.0548443 , ..., -0.21480249,\n",
       "        -0.29952317,  0.0851958 ],\n",
       "       [-0.04443897, -0.10730203, -0.10986639, ...,  0.09046327,\n",
       "         0.04003824, -0.26580593],\n",
       "       [ 0.32375497,  0.04976624, -0.15847176, ...,  0.10209265,\n",
       "        -0.02674977,  0.0305402 ]])"
      ]
     },
     "execution_count": 21,
     "metadata": {},
     "output_type": "execute_result"
    }
   ],
   "source": [
    "arr.T"
   ]
  },
  {
   "cell_type": "code",
   "execution_count": 23,
   "metadata": {},
   "outputs": [
    {
     "data": {
      "text/plain": [
       "100"
      ]
     },
     "execution_count": 23,
     "metadata": {},
     "output_type": "execute_result"
    }
   ],
   "source": [
    "arr.T[0].size"
   ]
  },
  {
   "cell_type": "code",
   "execution_count": 24,
   "metadata": {},
   "outputs": [],
   "source": [
    "import csv\n",
    "\n",
    "with open('three_moons.csv', mode='w') as file:\n",
    "    writer = csv.writer(file, delimiter=',')\n",
    "    for i in range(1500):\n",
    "        writer.writerow(arr.T[i])"
   ]
  },
  {
   "cell_type": "code",
   "execution_count": 25,
   "metadata": {},
   "outputs": [],
   "source": [
    "import pandas as pd\n",
    "# load dataset into Pandas DataFrame\n",
    "df = pd.read_csv('three_moons.csv')"
   ]
  },
  {
   "cell_type": "code",
   "execution_count": 31,
   "metadata": {},
   "outputs": [
    {
     "ename": "NameError",
     "evalue": "name 'sklearn' is not defined",
     "output_type": "error",
     "traceback": [
      "\u001b[0;31m---------------------------------------------------------------------------\u001b[0m",
      "\u001b[0;31mNameError\u001b[0m                                 Traceback (most recent call last)",
      "\u001b[0;32m<ipython-input-31-f617054136e1>\u001b[0m in \u001b[0;36m<module>\u001b[0;34m\u001b[0m\n\u001b[1;32m      1\u001b[0m \u001b[0;32mfrom\u001b[0m \u001b[0msklearn\u001b[0m \u001b[0;32mimport\u001b[0m \u001b[0mcluster\u001b[0m\u001b[0;34m,\u001b[0m \u001b[0mdatasets\u001b[0m\u001b[0;34m\u001b[0m\u001b[0;34m\u001b[0m\u001b[0m\n\u001b[0;32m----> 2\u001b[0;31m \u001b[0msklearn\u001b[0m\u001b[0;34m.\u001b[0m\u001b[0mdatasets\u001b[0m\u001b[0;34m.\u001b[0m\u001b[0mmake_moons\u001b[0m\u001b[0;34m(\u001b[0m\u001b[0mn_samples\u001b[0m\u001b[0;34m=\u001b[0m\u001b[0;36m100\u001b[0m\u001b[0;34m)\u001b[0m\u001b[0;34m\u001b[0m\u001b[0;34m\u001b[0m\u001b[0m\n\u001b[0m",
      "\u001b[0;31mNameError\u001b[0m: name 'sklearn' is not defined"
     ]
    }
   ],
   "source": [
    "from sklearn import cluster, datasets\n",
    "sklearn.datasets.make_moons(n_samples=100)"
   ]
  },
  {
   "cell_type": "code",
   "execution_count": null,
   "metadata": {},
   "outputs": [],
   "source": []
  }
 ],
 "metadata": {
  "kernelspec": {
   "display_name": "Python 3",
   "language": "python",
   "name": "python3"
  },
  "language_info": {
   "codemirror_mode": {
    "name": "ipython",
    "version": 3
   },
   "file_extension": ".py",
   "mimetype": "text/x-python",
   "name": "python",
   "nbconvert_exporter": "python",
   "pygments_lexer": "ipython3",
   "version": "3.7.6"
  }
 },
 "nbformat": 4,
 "nbformat_minor": 4
}
